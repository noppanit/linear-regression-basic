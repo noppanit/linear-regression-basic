{
 "cells": [
  {
   "cell_type": "markdown",
   "metadata": {},
   "source": [
    "#Introduction\n",
    "This is going to be a very basic examples of Linear Regression. Basically, we have generated data of total amount of meals and tips.\n",
    "We would like to use this historical data to predict the tip for any given amount of bill.\n",
    "\n",
    "The data is going to be perfect because I just want to show how easy it is to do Linear Regression.\n",
    "\n",
    "Best example so far I have found to calculate Linear Regression.\n",
    "\n",
    "http://onlinestatbook.com/2/regression/intro.html\n",
    "\n",
    "http://spin.atomicobject.com/2014/06/24/gradient-descent-linear-regression/\n",
    "\n",
    "https://github.com/mattnedrich/GradientDescentExample"
   ]
  },
  {
   "cell_type": "markdown",
   "metadata": {},
   "source": [
    "# Importing"
   ]
  },
  {
   "cell_type": "code",
   "execution_count": 1,
   "metadata": {
    "collapsed": false
   },
   "outputs": [],
   "source": [
    "%matplotlib inline \n",
    "import pandas as pd\n",
    "import numpy as np\n",
    "from scipy import stats\n",
    "import collections\n",
    "import time\n",
    "from sklearn.linear_model import SGDRegressor"
   ]
  },
  {
   "cell_type": "markdown",
   "metadata": {},
   "source": [
    "# Generate Data\n",
    "We are going to generate a 1000 samples of random number between \\$0 - \\$100. And let's say that each meal the customer tips 10% of the amount"
   ]
  },
  {
   "cell_type": "code",
   "execution_count": 3,
   "metadata": {
    "collapsed": false
   },
   "outputs": [],
   "source": [
    "total_bills = np.random.randint(100, size=1000)\n",
    "tips = total_bills * 0.10"
   ]
  },
  {
   "cell_type": "markdown",
   "metadata": {},
   "source": [
    "It's easier if we select the correct X and Y axis. Usually, The Y axis would be the value we want to predict and X would be the feed data."
   ]
  },
  {
   "cell_type": "code",
   "execution_count": 4,
   "metadata": {
    "collapsed": false
   },
   "outputs": [],
   "source": [
    "x = pd.Series(tips, name='tips')\n",
    "y = pd.Series(total_bills, name='total_bills')"
   ]
  },
  {
   "cell_type": "code",
   "execution_count": 6,
   "metadata": {
    "collapsed": false
   },
   "outputs": [],
   "source": [
    "df = pd.concat([x, y], axis=1)"
   ]
  },
  {
   "cell_type": "code",
   "execution_count": 7,
   "metadata": {
    "collapsed": false
   },
   "outputs": [
    {
     "data": {
      "image/png": "[encoded data removed]",
      "text/plain": [
       "<matplotlib.figure.Figure at 0x10f39a438>"
      ]
     },
     "metadata": {},
     "output_type": "display_data"
    }
   ],
   "source": [
    "df.plot(kind='scatter', x='total_bills', y='tips');"
   ]
  },
  {
   "cell_type": "markdown",
   "metadata": {},
   "source": [
    "As we can see from the graph that there's a strong correlation between amount of tip and meal. Now we want to calculate the regression line. We need the slope and intercept to feed in the formula. Y = MX + C"
   ]
  },
  {
   "cell_type": "code",
   "execution_count": 8,
   "metadata": {
    "collapsed": false
   },
   "outputs": [
    {
     "name": "stdout",
     "output_type": "stream",
     "text": [
      "slope is 0.100000 and intercept is 1.7763568394e-15\n"
     ]
    }
   ],
   "source": [
    "slope, intercept, r_value, p_value, std_err = stats.linregress(x=total_bills, y=tips)\n",
    "print(\"slope is %f and intercept is %s\" % (slope,intercept))"
   ]
  },
  {
   "cell_type": "markdown",
   "metadata": {},
   "source": [
    "Let's say if the customer spent $70 how much the customer will tip"
   ]
  },
  {
   "cell_type": "code",
   "execution_count": 9,
   "metadata": {
    "collapsed": true
   },
   "outputs": [],
   "source": [
    "predicted_tips = (slope * 70) + intercept"
   ]
  },
  {
   "cell_type": "code",
   "execution_count": 10,
   "metadata": {
    "collapsed": false
   },
   "outputs": [
    {
     "name": "stdout",
     "output_type": "stream",
     "text": [
      "The customer will leave the tip of $7.000000\n"
     ]
    }
   ],
   "source": [
    "print('The customer will leave the tip of $%f' % predicted_tips)"
   ]
  },
  {
   "cell_type": "markdown",
   "metadata": {},
   "source": [
    "# Large dataset\n",
    "\n",
    "Now let's have a look at large dataset. Let's see how our Linear Regression performs. I'm going to create 100 million datasets."
   ]
  },
  {
   "cell_type": "code",
   "execution_count": 20,
   "metadata": {
    "collapsed": false
   },
   "outputs": [],
   "source": [
    "large_total_bills = np.random.randint(10000, size=100000000)\n",
    "large_tips = total_bills * 0.10"
   ]
  },
  {
   "cell_type": "code",
   "execution_count": 21,
   "metadata": {
    "collapsed": false
   },
   "outputs": [
    {
     "name": "stdout",
     "output_type": "stream",
     "text": [
      "The customer will leave the tip of $499.961690\n",
      "The time spent is 11.000000 seconds\n"
     ]
    }
   ],
   "source": [
    "now = time.time()\n",
    "\n",
    "slope, intercept, r_value, p_value, std_err = stats.linregress(x=large_total_bills, y=large_tips)\n",
    "predicted_tips = (slope * 700) + intercept\n",
    "\n",
    "later = time.time()\n",
    "difference = int(later - now) \n",
    "print('The customer will leave the tip of $%f' % predicted_tips)\n",
    "print('The time spent is %f seconds' % difference)"
   ]
  },
  {
   "cell_type": "markdown",
   "metadata": {},
   "source": [
    "# Gradient Decent\n",
    "\n",
    "Now, I'm going to use Gradient Decent to find the fitted line. It's been known that Gradient Decent is better for large dataset. Let's see how well it performs. I'm going to use the code example from\n",
    "https://github.com/mattnedrich/GradientDescentExample"
   ]
  },
  {
   "cell_type": "code",
   "execution_count": 17,
   "metadata": {
    "collapsed": true
   },
   "outputs": [],
   "source": [
    "def compute_error_for_line_given_points (b, m, points):\n",
    "    totalError = 0\n",
    "    for i in range(0, len(points)):\n",
    "        totalError += (points[i].y - (m * points[i].x + b)) ** 2\n",
    "    return totalError / float(len(points))"
   ]
  },
  {
   "cell_type": "code",
   "execution_count": 18,
   "metadata": {
    "collapsed": true
   },
   "outputs": [],
   "source": [
    "def step_gradient(b_current, m_current, points, learningRate):\n",
    "    b_gradient = 0\n",
    "    m_gradient = 0\n",
    "    N = float(len(points))\n",
    "    for i in range(0, len(points)):\n",
    "        b_gradient += -(2/N) * (points[i].y - ((m_current*points[i].x) + b_current))\n",
    "        m_gradient += -(2/N) * points[i].x * (points[i].y - ((m_current * points[i].x) + b_current))\n",
    "    new_b = b_current - (learningRate * b_gradient)\n",
    "    new_m = m_current - (learningRate * m_gradient)\n",
    "    return [new_b, new_m]"
   ]
  },
  {
   "cell_type": "code",
   "execution_count": 19,
   "metadata": {
    "collapsed": true
   },
   "outputs": [],
   "source": [
    "def gradient_descent_runner(points, starting_b, starting_m, learning_rate, num_iterations):\n",
    "    b = starting_b\n",
    "    m = starting_m\n",
    "    for i in range(num_iterations):\n",
    "        b, m = step_gradient(b, m, points, learning_rate)\n",
    "    return [b, m]"
   ]
  },
  {
   "cell_type": "code",
   "execution_count": 22,
   "metadata": {
    "collapsed": false
   },
   "outputs": [
    {
     "name": "stdout",
     "output_type": "stream",
     "text": [
      "Starting gradient descent at b = 0, m = 0, error = 33.086309999999955\n",
      "Running...\n",
      "After 1000 iterations b = 0.001432728484911941, m = 0.09997841844411902, error = 5.119034280329996e-07\n"
     ]
    }
   ],
   "source": [
    "class point:\n",
    "    def __init__(self,x,y):\n",
    "        self.x=x\n",
    "        self.y=y\n",
    "        \n",
    "x = np.random.randint(100, size=1000)\n",
    "y = x * 0.10\n",
    "\n",
    "np.column_stack((x,y))\n",
    "\n",
    "points = []\n",
    "collections.namedtuple('Point', ['x', 'y'])\n",
    "for i in range(len(x)):\n",
    "        points.append(point(x[i],y[i]))\n",
    "\n",
    "learning_rate = 0.0001\n",
    "initial_b = 0 # initial y-intercept guess\n",
    "initial_m = 0 # initial slope guess\n",
    "num_iterations = 1000\n",
    "print(\"Starting gradient descent at b = {0}, m = {1}, error = {2}\".format(initial_b, initial_m, compute_error_for_line_given_points(initial_b, initial_m, points)))\n",
    "print(\"Running...\")\n",
    "[b, m] = gradient_descent_runner(points, initial_b, initial_m, learning_rate, num_iterations)\n",
    "print(\"After {0} iterations b = {1}, m = {2}, error = {3}\".format(num_iterations, b, m, compute_error_for_line_given_points(b, m, points)))\n"
   ]
  },
  {
   "cell_type": "markdown",
   "metadata": {},
   "source": [
    "Let's see after 1000 interations how close are we. Pretty close I think"
   ]
  },
  {
   "cell_type": "code",
   "execution_count": 25,
   "metadata": {
    "collapsed": false
   },
   "outputs": [
    {
     "data": {
      "text/plain": [
       "6.9999220195732432"
      ]
     },
     "execution_count": 25,
     "metadata": {},
     "output_type": "execute_result"
    }
   ],
   "source": [
    "gradient_predicted_tips = (m * 70) + b\n",
    "gradient_predicted_tips"
   ]
  },
  {
   "cell_type": "markdown",
   "metadata": {},
   "source": [
    "But you really don't need to write that on your own as Scikit provides that for you already."
   ]
  },
  {
   "cell_type": "code",
   "execution_count": 3,
   "metadata": {
    "collapsed": false
   },
   "outputs": [
    {
     "name": "stdout",
     "output_type": "stream",
     "text": [
      "Time spent for SGDRegressor is 313 seconds\n",
      "slope is 0.100000 and intercept is 5.96178570559e-07\n"
     ]
    }
   ],
   "source": [
    "x = np.random.randint(100, size=100000000)\n",
    "y = x * 0.10\n",
    "\n",
    "x = x[:,None]\n",
    "\n",
    "now = time.time()\n",
    "\n",
    "clf = SGDRegressor()\n",
    "clf.fit(x, y)\n",
    "\n",
    "later = time.time()\n",
    "difference = int(later - now) \n",
    "print(\"Time spent for SGDRegressor is %d seconds\" % difference)    \n",
    "print(\"slope is %f and intercept is %s\" % (clf.coef_, clf.intercept_[0]))\n"
   ]
  },
  {
   "cell_type": "code",
   "execution_count": 4,
   "metadata": {
    "collapsed": false
   },
   "outputs": [
    {
     "data": {
      "text/plain": [
       "array([ 6.99999978])"
      ]
     },
     "execution_count": 4,
     "metadata": {},
     "output_type": "execute_result"
    }
   ],
   "source": [
    "clf.predict(70) # How much tip"
   ]
  },
  {
   "cell_type": "code",
   "execution_count": null,
   "metadata": {
    "collapsed": true
   },
   "outputs": [],
   "source": []
  }
 ],
 "metadata": {
  "celltoolbar": "Raw Cell Format",
  "kernelspec": {
   "display_name": "Python 3",
   "language": "python",
   "name": "python3"
  },
  "language_info": {
   "codemirror_mode": {
    "name": "ipython",
    "version": 3
   },
   "file_extension": ".py",
   "mimetype": "text/x-python",
   "name": "python",
   "nbconvert_exporter": "python",
   "pygments_lexer": "ipython3",
   "version": "3.4.3"
  }
 },
 "nbformat": 4,
 "nbformat_minor": 0
}
